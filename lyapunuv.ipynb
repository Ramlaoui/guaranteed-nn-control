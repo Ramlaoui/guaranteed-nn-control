{
 "cells": [
  {
   "cell_type": "code",
   "execution_count": 12,
   "metadata": {},
   "outputs": [
    {
     "name": "stdout",
     "output_type": "stream",
     "text": [
      "The autoreload extension is already loaded. To reload it, use:\n",
      "  %reload_ext autoreload\n"
     ]
    }
   ],
   "source": [
    "import numpy as np\n",
    "import matplotlib.pyplot as plt\n",
    "import scipy.io\n",
    "from guaranteed_control.nn_reachability.nn_reachability_tf import nn_interval_py\n",
    "from guaranteed_control.intervals.interval import Interval\n",
    "import tensorflow.keras as keras\n",
    "%load_ext autoreload\n",
    "%autoreload 2\n"
   ]
  },
  {
   "cell_type": "code",
   "execution_count": 4,
   "metadata": {},
   "outputs": [],
   "source": [
    "def sample_points(interval, N=5000):\n",
    "\n",
    "    low, high = interval.high_low()\n",
    "    points = []\n",
    "\n",
    "    for i in range (len(low)):\n",
    "        points.append(np.random.uniform(low[i], high[i], N).reshape(-1, 1))\n",
    "\n",
    "    return np.concatenate(points, axis=1)"
   ]
  },
  {
   "cell_type": "code",
   "execution_count": 13,
   "metadata": {},
   "outputs": [],
   "source": [
    "model = keras.models.load_model(\"./models/mpc.tf\")\n",
    "test_interval = Interval(interval=[[0, 0.2], [0, 0.2]])\n",
    "points = sample_points(test_interval)"
   ]
  },
  {
   "cell_type": "code",
   "execution_count": 29,
   "metadata": {},
   "outputs": [],
   "source": [
    "def cut_interval(interval, epsilon=0.01):\n",
    "\n",
    "    intervals = [interval]\n",
    "    outputs = []\n",
    "\n",
    "    while len(intervals) != 0:\n",
    "        interval = intervals.pop()\n",
    "\n",
    "        if interval.length() > epsilon:\n",
    "            interval1, interval2 = interval.bissection()\n",
    "            intervals.append(interval1)\n",
    "            intervals.append(interval2)\n",
    "        else:\n",
    "            outputs.append(Interval(interval=[np.concatenate(nn_interval_py(model, interval.intervals), axis=0)]).intervals[0])\n",
    "    \n",
    "    return outputs"
   ]
  },
  {
   "cell_type": "code",
   "execution_count": 10,
   "metadata": {},
   "outputs": [
    {
     "data": {
      "text/plain": [
       "array([[0.03038868, 0.03945816]], dtype=float32)"
      ]
     },
     "execution_count": 10,
     "metadata": {},
     "output_type": "execute_result"
    }
   ],
   "source": [
    "output_interval = Interval(interval=[np.concatenate(nn_interval_py(model, test_interval.intervals), axis=0)])\n",
    "output_interval.intervals"
   ]
  },
  {
   "cell_type": "code",
   "execution_count": 11,
   "metadata": {},
   "outputs": [],
   "source": [
    "nn_points = sample_points(output_interval)\n",
    "scipy.io.savemat('lyap_arrays.mat', {'nn_points': nn_points, 'nn_interval': output_interval.intervals})"
   ]
  },
  {
   "cell_type": "code",
   "execution_count": 30,
   "metadata": {},
   "outputs": [],
   "source": [
    "outputs = cut_interval(test_interval)"
   ]
  },
  {
   "cell_type": "code",
   "execution_count": 31,
   "metadata": {},
   "outputs": [],
   "source": [
    "scipy.io.savemat('lyap_arrays.mat', {'nn_intervals': outputs})"
   ]
  },
  {
   "cell_type": "code",
   "execution_count": 32,
   "metadata": {},
   "outputs": [
    {
     "data": {
      "text/plain": [
       "array([-0.46978796, -0.451783  ], dtype=float32)"
      ]
     },
     "execution_count": 32,
     "metadata": {},
     "output_type": "execute_result"
    }
   ],
   "source": [
    "outputs[1]"
   ]
  },
  {
   "cell_type": "code",
   "execution_count": null,
   "metadata": {},
   "outputs": [],
   "source": []
  }
 ],
 "metadata": {
  "interpreter": {
   "hash": "e0b38f3b184aab98d7aa7cc9efc44af18e224df741e99c807ed99f5d387d4061"
  },
  "kernelspec": {
   "display_name": "Python 3.8.12 ('tf27')",
   "language": "python",
   "name": "python3"
  },
  "language_info": {
   "codemirror_mode": {
    "name": "ipython",
    "version": 3
   },
   "file_extension": ".py",
   "mimetype": "text/x-python",
   "name": "python",
   "nbconvert_exporter": "python",
   "pygments_lexer": "ipython3",
   "version": "3.8.12"
  },
  "orig_nbformat": 4
 },
 "nbformat": 4,
 "nbformat_minor": 2
}
