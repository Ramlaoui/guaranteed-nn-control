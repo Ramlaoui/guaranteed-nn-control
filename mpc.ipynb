{
 "cells": [
  {
   "cell_type": "code",
   "execution_count": 4,
   "metadata": {},
   "outputs": [],
   "source": [
    "import tensorflow as tf\n",
    "import tensorflow.keras as keras\n",
    "import numpy as np\n",
    "import matplotlib.pyplot as plt\n",
    "import scipy.io"
   ]
  },
  {
   "cell_type": "code",
   "execution_count": 5,
   "metadata": {},
   "outputs": [],
   "source": [
    "values = scipy.io.loadmat(\"test2.mat\")"
   ]
  },
  {
   "cell_type": "code",
   "execution_count": 6,
   "metadata": {},
   "outputs": [],
   "source": [
    "percent = 0.8\n",
    "p = np.random.permutation(len(values['u']))\n",
    "actions = values[\"u\"][p]\n",
    "states = values['x'][p]\n",
    "n = int(percent*actions.shape[0])\n",
    "actions_train, actions_validate, states_train, states_validate = actions[:n], actions[n:], states[n:], states[:n]"
   ]
  },
  {
   "cell_type": "code",
   "execution_count": 7,
   "metadata": {},
   "outputs": [
    {
     "name": "stdout",
     "output_type": "stream",
     "text": [
      "Model: \"sequential\"\n",
      "_________________________________________________________________\n",
      " Layer (type)                Output Shape              Param #   \n",
      "=================================================================\n",
      " dense (Dense)               (None, 16)                48        \n",
      "                                                                 \n",
      " dense_1 (Dense)             (None, 16)                272       \n",
      "                                                                 \n",
      " dense_2 (Dense)             (None, 1)                 17        \n",
      "                                                                 \n",
      "=================================================================\n",
      "Total params: 337\n",
      "Trainable params: 337\n",
      "Non-trainable params: 0\n",
      "_________________________________________________________________\n"
     ]
    }
   ],
   "source": [
    "model = keras.Sequential([\n",
    "    keras.Input(shape=(2)),\n",
    "    keras.layers.Dense(16, activation='relu'),\n",
    "    keras.layers.Dense(16, activation='relu'),\n",
    "    keras.layers.Dense(1),\n",
    "])\n",
    "model.build()\n",
    "model.summary()"
   ]
  },
  {
   "cell_type": "code",
   "execution_count": 9,
   "metadata": {},
   "outputs": [
    {
     "name": "stdout",
     "output_type": "stream",
     "text": [
      "Epoch 1/10\n",
      "625/625 [==============================] - 5s 8ms/step - loss: 7.9556e-04 - mse: 7.9556e-04 - val_loss: 7.0923e-04 - val_mse: 7.0923e-04\n",
      "Epoch 2/10\n",
      "625/625 [==============================] - 4s 7ms/step - loss: 6.2305e-04 - mse: 6.2305e-04 - val_loss: 7.6125e-04 - val_mse: 7.6125e-04\n",
      "Epoch 3/10\n",
      "625/625 [==============================] - 5s 8ms/step - loss: 5.1774e-04 - mse: 5.1774e-04 - val_loss: 3.6371e-04 - val_mse: 3.6371e-04\n",
      "Epoch 4/10\n",
      "625/625 [==============================] - 5s 8ms/step - loss: 8.2126e-04 - mse: 8.2126e-04 - val_loss: 3.5669e-04 - val_mse: 3.5669e-04\n",
      "Epoch 5/10\n",
      "625/625 [==============================] - 5s 8ms/step - loss: 5.4132e-04 - mse: 5.4132e-04 - val_loss: 3.4651e-04 - val_mse: 3.4651e-04\n",
      "Epoch 6/10\n",
      "625/625 [==============================] - 5s 8ms/step - loss: 4.2262e-04 - mse: 4.2262e-04 - val_loss: 6.4207e-04 - val_mse: 6.4207e-04\n",
      "Epoch 7/10\n",
      "625/625 [==============================] - 5s 8ms/step - loss: 3.9559e-04 - mse: 3.9559e-04 - val_loss: 3.8730e-04 - val_mse: 3.8730e-04\n",
      "Epoch 8/10\n",
      "625/625 [==============================] - 6s 9ms/step - loss: 5.1662e-04 - mse: 5.1662e-04 - val_loss: 3.5201e-04 - val_mse: 3.5201e-04\n",
      "Epoch 9/10\n",
      "625/625 [==============================] - 5s 8ms/step - loss: 3.3162e-04 - mse: 3.3162e-04 - val_loss: 2.8041e-04 - val_mse: 2.8041e-04\n",
      "Epoch 10/10\n",
      "625/625 [==============================] - 5s 8ms/step - loss: 7.3196e-04 - mse: 7.3196e-04 - val_loss: 3.4531e-04 - val_mse: 3.4531e-04\n"
     ]
    }
   ],
   "source": [
    "with tf.device('/cpu:0'):\n",
    "    model.compile(optimizer=keras.optimizers.Adam(), loss=\"mse\", metrics=[\"mse\"])\n",
    "    model.fit(states, actions, epochs=10, validation_split=0.8)"
   ]
  },
  {
   "cell_type": "code",
   "execution_count": 10,
   "metadata": {},
   "outputs": [
    {
     "name": "stdout",
     "output_type": "stream",
     "text": [
      "INFO:tensorflow:Assets written to: ./models/mpc.tf\\assets\n"
     ]
    }
   ],
   "source": [
    "keras.models.save_model(model, filepath=\"./models/mpc.tf\", save_format=\"tf\")"
   ]
  },
  {
   "cell_type": "code",
   "execution_count": null,
   "metadata": {},
   "outputs": [],
   "source": []
  }
 ],
 "metadata": {
  "interpreter": {
   "hash": "d42231080970ac3f8ecfa1cd7c74eb5eb4246c3fa6897b60fa6da2e43cd66d86"
  },
  "kernelspec": {
   "display_name": "Python 3.9.7 ('base')",
   "language": "python",
   "name": "python3"
  },
  "language_info": {
   "codemirror_mode": {
    "name": "ipython",
    "version": 3
   },
   "file_extension": ".py",
   "mimetype": "text/x-python",
   "name": "python",
   "nbconvert_exporter": "python",
   "pygments_lexer": "ipython3",
   "version": "3.8.12"
  },
  "orig_nbformat": 4
 },
 "nbformat": 4,
 "nbformat_minor": 2
}
